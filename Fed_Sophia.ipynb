{
 "cells": [
  {
   "cell_type": "code",
   "execution_count": 26,
   "id": "be4417d8",
   "metadata": {},
   "outputs": [],
   "source": [
    "import torch\n",
    "import torch.nn.functional as F\n",
    "from sophia import SophiaG\n",
    "import torch.nn as nn\n",
    "from utils import read_data, default_dataset_parameters\n",
    "from torch.utils.data import TensorDataset, DataLoader\n"
   ]
  },
  {
   "cell_type": "code",
   "execution_count": 31,
   "id": "921b0316",
   "metadata": {},
   "outputs": [],
   "source": [
    "data_name = 'a9a'\n",
    "dataset_path = './datasets/{}.txt'.format(data_name)\n",
    "\n",
    "\n",
    "# regularization parameter\n",
    "lmb = 1e-3\n",
    "\n",
    "# number of nodes, size of local data, and dimension of the problem\n",
    "# according to the paper\n",
    "N = default_dataset_parameters[data_name]['N']# size of the whole data set\n",
    "n = default_dataset_parameters[data_name]['n']# number of nodes\n",
    "m = default_dataset_parameters[data_name]['m']# size of local data set\n",
    "d = default_dataset_parameters[data_name]['d']# dimension of the problem\n",
    "\n",
    "batch_size = 512"
   ]
  },
  {
   "cell_type": "code",
   "execution_count": 32,
   "id": "d6291a27",
   "metadata": {},
   "outputs": [],
   "source": [
    "A, b = read_data(dataset_path=dataset_path, \n",
    "                 N=N, n=n, m=m, d=d, lmb=lmb,\n",
    "                labels=['+1', '-1', '0'])"
   ]
  },
  {
   "cell_type": "code",
   "execution_count": 41,
   "id": "d8c24843",
   "metadata": {},
   "outputs": [],
   "source": [
    "tensor_x = torch.Tensor(A)\n",
    "tensor_y = torch.Tensor(b)\n",
    "\n",
    "\n",
    "my_dataset = TensorDataset(tensor_x,tensor_y) # create your datset\n",
    "my_dataloader = DataLoader(my_dataset, batch_size=batch_size,shuffle=True) # create your dataloader\n"
   ]
  },
  {
   "cell_type": "code",
   "execution_count": 42,
   "id": "34d81400",
   "metadata": {},
   "outputs": [
    {
     "name": "stdout",
     "output_type": "stream",
     "text": [
      "0\n",
      "1\n",
      "2\n",
      "3\n",
      "4\n",
      "5\n",
      "6\n",
      "7\n",
      "8\n",
      "9\n",
      "10\n",
      "11\n",
      "12\n",
      "13\n",
      "14\n",
      "15\n",
      "16\n",
      "17\n",
      "18\n",
      "19\n",
      "20\n",
      "21\n",
      "22\n",
      "23\n",
      "24\n",
      "25\n",
      "26\n",
      "27\n",
      "28\n",
      "29\n",
      "30\n",
      "31\n",
      "32\n",
      "33\n",
      "34\n",
      "35\n",
      "36\n",
      "37\n",
      "38\n",
      "39\n",
      "40\n",
      "41\n",
      "42\n",
      "43\n",
      "44\n",
      "45\n",
      "46\n",
      "47\n",
      "48\n",
      "49\n",
      "50\n",
      "51\n",
      "52\n",
      "53\n",
      "54\n",
      "55\n",
      "56\n",
      "57\n",
      "58\n",
      "59\n",
      "60\n",
      "61\n",
      "62\n",
      "63\n"
     ]
    }
   ],
   "source": [
    "for i, (x, y) in zip(range(1000), my_dataloader):\n",
    "    print(i)"
   ]
  },
  {
   "cell_type": "code",
   "execution_count": 43,
   "id": "bc56f2be",
   "metadata": {},
   "outputs": [],
   "source": [
    "\n",
    "\n",
    "class MLP(nn.Module):\n",
    "\n",
    "    def __init__(self):\n",
    "        super().__init__()\n",
    "        self.c_fc    = nn.Linear(d, 1, bias=False)\n",
    "        #self.c_proj  = nn.Linear(4 * config.n_embd, config.n_embd, bias=config.bias)\n",
    "        #self.dropout = nn.Dropout(config.dropout)\n",
    "\n",
    "    def forward(self, x):\n",
    "        x = self.c_fc(x)\n",
    "        return x"
   ]
  },
  {
   "cell_type": "code",
   "execution_count": 44,
   "id": "dfe2d23d",
   "metadata": {},
   "outputs": [],
   "source": [
    "model = MLP()"
   ]
  },
  {
   "cell_type": "code",
   "execution_count": 45,
   "id": "d03b124a",
   "metadata": {},
   "outputs": [
    {
     "data": {
      "text/plain": [
       "tensor([[ 0.0020],\n",
       "        [-0.0598],\n",
       "        [-0.1835],\n",
       "        ...,\n",
       "        [-0.3212],\n",
       "        [ 0.0703],\n",
       "        [ 0.0518]], grad_fn=<MmBackward0>)"
      ]
     },
     "execution_count": 45,
     "metadata": {},
     "output_type": "execute_result"
    }
   ],
   "source": [
    "model(tensor_x)"
   ]
  },
  {
   "cell_type": "code",
   "execution_count": null,
   "id": "984f962f",
   "metadata": {},
   "outputs": [],
   "source": [
    "from model import MLP\n",
    "\n",
    "\n",
    "# init model loss function and input data\n",
    "\n",
    "model = Model()\n",
    "data_loader = ...\n"
   ]
  },
  {
   "cell_type": "code",
   "execution_count": null,
   "id": "0048bfe8",
   "metadata": {},
   "outputs": [],
   "source": [
    "# init the optimizer\n",
    "optimizer = SophiaG(model.parameters(), lr=2e-4, betas=(0.965, 0.99), rho=0.01, weight_decay=1e-1)\n",
    "\n",
    "total_bs = len(data_loader)\n",
    "bs = total_bs * block_size\n",
    "k = 10\n",
    "iter_num = -1\n",
    "\n",
    "# training loop\n",
    "for epoch in range(epochs):\n",
    "    for X, Y in data_loader:\n",
    "        # standard training code\n",
    "        logits, loss = model(X, Y)\n",
    "        loss.backward()\n",
    "        optimizer.step(bs=bs)\n",
    "        optimizer.zero_grad(set_to_none=True)\n",
    "        iter_num += 1\n",
    "\n",
    "        if iter_num % k != k - 1:\n",
    "            continue\n",
    "        else:\n",
    "            # update hessian EMA\n",
    "            logits, _ = model(X, None)\n",
    "            samp_dist = torch.distributions.Categorical(logits=logits)\n",
    "            y_sample = samp_dist.sample()\n",
    "            loss_sampled = F.cross_entropy(logits.view(-1, logits.size(-1)), y_sample.view(-1), ignore_index=-1)\n",
    "            loss_sampled.backward()\n",
    "            optimizer.update_hessian()\n",
    "            optimizer.zero_grad(set_to_none=True)\n",
    "            model.zero_grad()"
   ]
  }
 ],
 "metadata": {
  "kernelspec": {
   "display_name": "Python 3",
   "language": "python",
   "name": "python3"
  },
  "language_info": {
   "codemirror_mode": {
    "name": "ipython",
    "version": 3
   },
   "file_extension": ".py",
   "mimetype": "text/x-python",
   "name": "python",
   "nbconvert_exporter": "python",
   "pygments_lexer": "ipython3",
   "version": "3.8.8"
  }
 },
 "nbformat": 4,
 "nbformat_minor": 5
}
